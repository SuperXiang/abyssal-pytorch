{
 "cells": [
  {
   "cell_type": "markdown",
   "metadata": {},
   "source": [
    "# Dataset preparation for training Abyssal models\n",
    "\n",
    "This notebook is for\n",
    "\n",
    "- Dataset filtering\n",
    "- Train/val/test split"
   ]
  },
  {
   "cell_type": "code",
   "execution_count": 1,
   "metadata": {},
   "outputs": [],
   "source": [
    "import pandas as pd"
   ]
  },
  {
   "cell_type": "markdown",
   "metadata": {},
   "source": [
    "## Download and extract files\n",
    "\n",
    "- Link to MegaDataset Zenodo : https://zenodo.org/record/7401275#.Y6st59JBxD\n",
    "- K50 dG dataset : https://zenodo.org/record/7401275/files/Processed_K50_dG_datasets.zip?download=1\n",
    "    - -> We have to download this"
   ]
  },
  {
   "cell_type": "code",
   "execution_count": 2,
   "metadata": {},
   "outputs": [
    {
     "name": "stdout",
     "output_type": "stream",
     "text": [
      "--2023-02-09 14:52:51--  https://zenodo.org/record/7401275/files/Processed_K50_dG_datasets.zip\n",
      "Resolving zenodo.org (zenodo.org)... 188.185.124.72\n",
      "Connecting to zenodo.org (zenodo.org)|188.185.124.72|:443... connected.\n",
      "HTTP request sent, awaiting response... 200 OK\n",
      "Length: 1006084071 (959M) [application/octet-stream]\n",
      "Saving to: '../data/Processed_K50_dG_datasets.zip'\n",
      "\n",
      "../data/Processed_K 100%[===================>] 959.48M   242KB/s    in 69m 58s \n",
      "\n",
      "2023-02-09 16:02:51 (234 KB/s) - '../data/Processed_K50_dG_datasets.zip' saved [1006084071/1006084071]\n",
      "\n",
      "Archive:  ../data/Processed_K50_dG_datasets.zip\n",
      "   creating: Processed_K50_dG_datasets/\n",
      "  inflating: Processed_K50_dG_datasets/Heat_maps_double_DMS.pdf  \n",
      "  inflating: Processed_K50_dG_datasets/Triple_DMS_list.csv  \n",
      "  inflating: Processed_K50_dG_datasets/Single_DMS_list.csv  \n",
      "  inflating: Processed_K50_dG_datasets/K50_dG_Dataset1_Dataset2.csv  \n",
      "  inflating: Processed_K50_dG_datasets/K50_Dataset3.csv  \n",
      "  inflating: Processed_K50_dG_datasets/Double_DMS_list.csv  \n",
      "  inflating: Processed_K50_dG_datasets/Heat_maps_single_DMS.pdf  \n"
     ]
    }
   ],
   "source": [
    "!wget https://zenodo.org/record/7401275/files/Processed_K50_dG_datasets.zip -O ../data/Processed_K50_dG_datasets.zip\n",
    "!unzip ../data/Processed_K50_dG_datasets.zip -d ../data"
   ]
  },
  {
   "cell_type": "code",
   "execution_count": 7,
   "metadata": {},
   "outputs": [],
   "source": [
    "!rm -r Processed_K50_dG_datasets"
   ]
  },
  {
   "cell_type": "code",
   "execution_count": 6,
   "metadata": {},
   "outputs": [
    {
     "name": "stdout",
     "output_type": "stream",
     "text": [
      "Archive:  ../data/Processed_K50_dG_datasets.zip\n",
      "   creating: ../data/Processed_K50_dG_datasets/\n",
      "  inflating: ../data/Processed_K50_dG_datasets/Heat_maps_double_DMS.pdf  \n",
      "  inflating: ../data/Processed_K50_dG_datasets/Triple_DMS_list.csv  \n",
      "  inflating: ../data/Processed_K50_dG_datasets/Single_DMS_list.csv  \n",
      "  inflating: ../data/Processed_K50_dG_datasets/K50_dG_Dataset1_Dataset2.csv  \n",
      "  inflating: ../data/Processed_K50_dG_datasets/K50_Dataset3.csv  \n",
      "  inflating: ../data/Processed_K50_dG_datasets/Double_DMS_list.csv  \n",
      "  inflating: ../data/Processed_K50_dG_datasets/Heat_maps_single_DMS.pdf  \n"
     ]
    }
   ],
   "source": [
    "!unzip ../data/Processed_K50_dG_datasets.zip -d ../data"
   ]
  },
  {
   "cell_type": "code",
   "execution_count": 31,
   "metadata": {},
   "outputs": [],
   "source": [
    "single = pd.read_csv('../data/Processed_K50_dG_datasets/Single_DMS_list.csv')"
   ]
  },
  {
   "cell_type": "code",
   "execution_count": 32,
   "metadata": {},
   "outputs": [
    {
     "data": {
      "text/html": [
       "<div>\n",
       "<style scoped>\n",
       "    .dataframe tbody tr th:only-of-type {\n",
       "        vertical-align: middle;\n",
       "    }\n",
       "\n",
       "    .dataframe tbody tr th {\n",
       "        vertical-align: top;\n",
       "    }\n",
       "\n",
       "    .dataframe thead th {\n",
       "        text-align: right;\n",
       "    }\n",
       "</style>\n",
       "<table border=\"1\" class=\"dataframe\">\n",
       "  <thead>\n",
       "    <tr style=\"text-align: right;\">\n",
       "      <th></th>\n",
       "      <th>name</th>\n",
       "      <th>aa_seq</th>\n",
       "      <th>frac_NA</th>\n",
       "      <th>frac_highconf</th>\n",
       "      <th>frac_lowconf_lowss</th>\n",
       "      <th>frac_lowconf_highdg</th>\n",
       "      <th>raw_corr</th>\n",
       "      <th>dg_corr</th>\n",
       "      <th>slope</th>\n",
       "      <th>y_intercept</th>\n",
       "      <th>width_KT</th>\n",
       "      <th>width_KC</th>\n",
       "      <th>wt_dg_std_max</th>\n",
       "      <th>wt_kt</th>\n",
       "      <th>wt_kc</th>\n",
       "      <th>wt_dg</th>\n",
       "      <th>frac_stabilizing_mut</th>\n",
       "      <th>frac_stabilizing_hydrophobic_mut</th>\n",
       "      <th>frac_pos_with_hydrophobic_stabilzing_muts</th>\n",
       "      <th>wt_d_from_line</th>\n",
       "      <th>DMS_group</th>\n",
       "      <th>WT_cluster</th>\n",
       "    </tr>\n",
       "  </thead>\n",
       "  <tbody>\n",
       "    <tr>\n",
       "      <th>0</th>\n",
       "      <td>EA|run2_0325_0005.pdb</td>\n",
       "      <td>DEVTIHLGDKTIRVDGLDKELLEILKELARRGADEEELRKEIERWER</td>\n",
       "      <td>-0.066194</td>\n",
       "      <td>0.978936</td>\n",
       "      <td>0.000000</td>\n",
       "      <td>0.000000</td>\n",
       "      <td>0.795897</td>\n",
       "      <td>0.897355</td>\n",
       "      <td>0.924574</td>\n",
       "      <td>0.585864</td>\n",
       "      <td>1.799410</td>\n",
       "      <td>1.667615</td>\n",
       "      <td>0.313232</td>\n",
       "      <td>1.247143</td>\n",
       "      <td>1.179462</td>\n",
       "      <td>3.314910</td>\n",
       "      <td>0.159645</td>\n",
       "      <td>0.241270</td>\n",
       "      <td>0.000000</td>\n",
       "      <td>0.076732</td>\n",
       "      <td>G0</td>\n",
       "      <td>EEHH</td>\n",
       "    </tr>\n",
       "    <tr>\n",
       "      <th>1</th>\n",
       "      <td>EA|run3_0321_0005.pdb</td>\n",
       "      <td>HDVTIHAGDKTIHVHGASEEFLRIIEQAKRDGIHEEELLRLIEELVK</td>\n",
       "      <td>-0.079196</td>\n",
       "      <td>0.994524</td>\n",
       "      <td>0.000000</td>\n",
       "      <td>0.111111</td>\n",
       "      <td>0.716247</td>\n",
       "      <td>0.869205</td>\n",
       "      <td>0.964459</td>\n",
       "      <td>0.385471</td>\n",
       "      <td>1.654039</td>\n",
       "      <td>1.476803</td>\n",
       "      <td>0.032966</td>\n",
       "      <td>1.399448</td>\n",
       "      <td>1.541773</td>\n",
       "      <td>3.319744</td>\n",
       "      <td>0.144578</td>\n",
       "      <td>0.272446</td>\n",
       "      <td>0.000000</td>\n",
       "      <td>0.134545</td>\n",
       "      <td>G0</td>\n",
       "      <td>EEHH</td>\n",
       "    </tr>\n",
       "    <tr>\n",
       "      <th>2</th>\n",
       "      <td>EA|run3_0525_0006.pdb</td>\n",
       "      <td>SHFELRVGTITLHFDNISEELAEELEKLAKNGVHADEIRRWWEEWLK</td>\n",
       "      <td>-0.047281</td>\n",
       "      <td>0.981941</td>\n",
       "      <td>0.000000</td>\n",
       "      <td>0.014815</td>\n",
       "      <td>0.925822</td>\n",
       "      <td>0.939814</td>\n",
       "      <td>1.189631</td>\n",
       "      <td>0.137674</td>\n",
       "      <td>1.649916</td>\n",
       "      <td>1.791146</td>\n",
       "      <td>0.129925</td>\n",
       "      <td>1.453857</td>\n",
       "      <td>1.146686</td>\n",
       "      <td>3.973386</td>\n",
       "      <td>0.188488</td>\n",
       "      <td>0.257962</td>\n",
       "      <td>0.021277</td>\n",
       "      <td>0.068905</td>\n",
       "      <td>G0</td>\n",
       "      <td>EEHH</td>\n",
       "    </tr>\n",
       "    <tr>\n",
       "      <th>3</th>\n",
       "      <td>EA|run3_1140_0005.pdb</td>\n",
       "      <td>FHVTIHVGDITFHIHGVSEEEVKKLEELVRRGADWREIKKTIEEIEK</td>\n",
       "      <td>-0.070922</td>\n",
       "      <td>0.998896</td>\n",
       "      <td>0.000000</td>\n",
       "      <td>0.006369</td>\n",
       "      <td>0.907062</td>\n",
       "      <td>0.885406</td>\n",
       "      <td>1.054723</td>\n",
       "      <td>0.720572</td>\n",
       "      <td>1.696218</td>\n",
       "      <td>1.700676</td>\n",
       "      <td>0.103201</td>\n",
       "      <td>1.540460</td>\n",
       "      <td>1.345207</td>\n",
       "      <td>4.030383</td>\n",
       "      <td>0.205298</td>\n",
       "      <td>0.366242</td>\n",
       "      <td>0.000000</td>\n",
       "      <td>0.072771</td>\n",
       "      <td>G0</td>\n",
       "      <td>EEHH</td>\n",
       "    </tr>\n",
       "    <tr>\n",
       "      <th>4</th>\n",
       "      <td>EA|run5_0050_0004.pdb</td>\n",
       "      <td>TEVDLHLGDITIKLKDVSEEIVKRAKELFKNGWSAEFVKKWIEEAVK</td>\n",
       "      <td>-0.066194</td>\n",
       "      <td>0.992239</td>\n",
       "      <td>0.000000</td>\n",
       "      <td>0.009063</td>\n",
       "      <td>0.956524</td>\n",
       "      <td>0.960212</td>\n",
       "      <td>1.083691</td>\n",
       "      <td>0.050350</td>\n",
       "      <td>2.096557</td>\n",
       "      <td>2.274312</td>\n",
       "      <td>0.076288</td>\n",
       "      <td>1.767808</td>\n",
       "      <td>1.318278</td>\n",
       "      <td>4.190778</td>\n",
       "      <td>0.200665</td>\n",
       "      <td>0.311111</td>\n",
       "      <td>0.021277</td>\n",
       "      <td>0.110935</td>\n",
       "      <td>G0</td>\n",
       "      <td>EEHH</td>\n",
       "    </tr>\n",
       "    <tr>\n",
       "      <th>...</th>\n",
       "      <td>...</td>\n",
       "      <td>...</td>\n",
       "      <td>...</td>\n",
       "      <td>...</td>\n",
       "      <td>...</td>\n",
       "      <td>...</td>\n",
       "      <td>...</td>\n",
       "      <td>...</td>\n",
       "      <td>...</td>\n",
       "      <td>...</td>\n",
       "      <td>...</td>\n",
       "      <td>...</td>\n",
       "      <td>...</td>\n",
       "      <td>...</td>\n",
       "      <td>...</td>\n",
       "      <td>...</td>\n",
       "      <td>...</td>\n",
       "      <td>...</td>\n",
       "      <td>...</td>\n",
       "      <td>...</td>\n",
       "      <td>...</td>\n",
       "      <td>...</td>\n",
       "    </tr>\n",
       "    <tr>\n",
       "      <th>978</th>\n",
       "      <td>2M9E.pdb</td>\n",
       "      <td>KLPPGWEKRMFANGTVYYFNHITNASQFERPS</td>\n",
       "      <td>0.149306</td>\n",
       "      <td>0.738776</td>\n",
       "      <td>0.008408</td>\n",
       "      <td>0.000000</td>\n",
       "      <td>0.880768</td>\n",
       "      <td>0.893150</td>\n",
       "      <td>0.903905</td>\n",
       "      <td>0.788703</td>\n",
       "      <td>2.016923</td>\n",
       "      <td>1.999349</td>\n",
       "      <td>0.342628</td>\n",
       "      <td>0.490999</td>\n",
       "      <td>0.052736</td>\n",
       "      <td>3.247773</td>\n",
       "      <td>0.242857</td>\n",
       "      <td>0.318681</td>\n",
       "      <td>0.093750</td>\n",
       "      <td>0.410728</td>\n",
       "      <td>G8</td>\n",
       "      <td>164</td>\n",
       "    </tr>\n",
       "    <tr>\n",
       "      <th>979</th>\n",
       "      <td>2M7O.pdb_G38S</td>\n",
       "      <td>MKTQEELTEIVRDHFSDMGEIATLYVQVYESSLESLVSGVIFEDGR...</td>\n",
       "      <td>-0.061111</td>\n",
       "      <td>0.999127</td>\n",
       "      <td>0.000000</td>\n",
       "      <td>0.000000</td>\n",
       "      <td>0.922895</td>\n",
       "      <td>0.941856</td>\n",
       "      <td>1.310385</td>\n",
       "      <td>0.632034</td>\n",
       "      <td>0.955763</td>\n",
       "      <td>1.419743</td>\n",
       "      <td>0.066868</td>\n",
       "      <td>0.144979</td>\n",
       "      <td>-1.052287</td>\n",
       "      <td>1.926132</td>\n",
       "      <td>0.511344</td>\n",
       "      <td>0.807595</td>\n",
       "      <td>0.433333</td>\n",
       "      <td>0.055859</td>\n",
       "      <td>G8</td>\n",
       "      <td>117</td>\n",
       "    </tr>\n",
       "    <tr>\n",
       "      <th>980</th>\n",
       "      <td>2KZI.pdb_pross6</td>\n",
       "      <td>NKFNKEMQNAYWEILHLPNLNEEQKNAFIQSLYDDPSQSANLLAEA...</td>\n",
       "      <td>0.005144</td>\n",
       "      <td>0.721820</td>\n",
       "      <td>0.000000</td>\n",
       "      <td>0.600000</td>\n",
       "      <td>0.832259</td>\n",
       "      <td>0.839187</td>\n",
       "      <td>0.946620</td>\n",
       "      <td>-0.057472</td>\n",
       "      <td>1.755171</td>\n",
       "      <td>1.815391</td>\n",
       "      <td>0.000000</td>\n",
       "      <td>1.676971</td>\n",
       "      <td>0.578866</td>\n",
       "      <td>3.192496</td>\n",
       "      <td>0.520165</td>\n",
       "      <td>0.600000</td>\n",
       "      <td>0.092593</td>\n",
       "      <td>0.028704</td>\n",
       "      <td>G8</td>\n",
       "      <td>71</td>\n",
       "    </tr>\n",
       "    <tr>\n",
       "      <th>981</th>\n",
       "      <td>2KZI.pdb_pross8</td>\n",
       "      <td>NKFNKEMQNAYYEILHLPNLNEEQKNAFIQSLYDDPSQSANLLAEA...</td>\n",
       "      <td>-0.002058</td>\n",
       "      <td>0.832649</td>\n",
       "      <td>0.000000</td>\n",
       "      <td>0.000000</td>\n",
       "      <td>0.799198</td>\n",
       "      <td>0.831423</td>\n",
       "      <td>0.875908</td>\n",
       "      <td>-0.057259</td>\n",
       "      <td>1.857731</td>\n",
       "      <td>1.800893</td>\n",
       "      <td>0.000000</td>\n",
       "      <td>1.569547</td>\n",
       "      <td>1.185112</td>\n",
       "      <td>3.630498</td>\n",
       "      <td>0.039014</td>\n",
       "      <td>0.046832</td>\n",
       "      <td>0.000000</td>\n",
       "      <td>0.795342</td>\n",
       "      <td>G8</td>\n",
       "      <td>71</td>\n",
       "    </tr>\n",
       "    <tr>\n",
       "      <th>982</th>\n",
       "      <td>2KZI.pdb_pross9</td>\n",
       "      <td>NKFNKEMQNAYYEILHLPNLNEEQRNAFIQSLKDDPSQSANLLAEA...</td>\n",
       "      <td>-0.002058</td>\n",
       "      <td>0.888090</td>\n",
       "      <td>0.000000</td>\n",
       "      <td>0.000000</td>\n",
       "      <td>0.758360</td>\n",
       "      <td>0.803714</td>\n",
       "      <td>0.910320</td>\n",
       "      <td>-0.204939</td>\n",
       "      <td>1.773564</td>\n",
       "      <td>1.766265</td>\n",
       "      <td>0.000000</td>\n",
       "      <td>1.448559</td>\n",
       "      <td>0.175867</td>\n",
       "      <td>2.957964</td>\n",
       "      <td>0.481520</td>\n",
       "      <td>0.609890</td>\n",
       "      <td>0.092593</td>\n",
       "      <td>0.009523</td>\n",
       "      <td>G8</td>\n",
       "      <td>71</td>\n",
       "    </tr>\n",
       "  </tbody>\n",
       "</table>\n",
       "<p>983 rows × 22 columns</p>\n",
       "</div>"
      ],
      "text/plain": [
       "                      name                                             aa_seq  \\\n",
       "0    EA|run2_0325_0005.pdb    DEVTIHLGDKTIRVDGLDKELLEILKELARRGADEEELRKEIERWER   \n",
       "1    EA|run3_0321_0005.pdb    HDVTIHAGDKTIHVHGASEEFLRIIEQAKRDGIHEEELLRLIEELVK   \n",
       "2    EA|run3_0525_0006.pdb    SHFELRVGTITLHFDNISEELAEELEKLAKNGVHADEIRRWWEEWLK   \n",
       "3    EA|run3_1140_0005.pdb    FHVTIHVGDITFHIHGVSEEEVKKLEELVRRGADWREIKKTIEEIEK   \n",
       "4    EA|run5_0050_0004.pdb    TEVDLHLGDITIKLKDVSEEIVKRAKELFKNGWSAEFVKKWIEEAVK   \n",
       "..                     ...                                                ...   \n",
       "978               2M9E.pdb                   KLPPGWEKRMFANGTVYYFNHITNASQFERPS   \n",
       "979          2M7O.pdb_G38S  MKTQEELTEIVRDHFSDMGEIATLYVQVYESSLESLVSGVIFEDGR...   \n",
       "980        2KZI.pdb_pross6  NKFNKEMQNAYWEILHLPNLNEEQKNAFIQSLYDDPSQSANLLAEA...   \n",
       "981        2KZI.pdb_pross8  NKFNKEMQNAYYEILHLPNLNEEQKNAFIQSLYDDPSQSANLLAEA...   \n",
       "982        2KZI.pdb_pross9  NKFNKEMQNAYYEILHLPNLNEEQRNAFIQSLKDDPSQSANLLAEA...   \n",
       "\n",
       "      frac_NA  frac_highconf  frac_lowconf_lowss  frac_lowconf_highdg  \\\n",
       "0   -0.066194       0.978936            0.000000             0.000000   \n",
       "1   -0.079196       0.994524            0.000000             0.111111   \n",
       "2   -0.047281       0.981941            0.000000             0.014815   \n",
       "3   -0.070922       0.998896            0.000000             0.006369   \n",
       "4   -0.066194       0.992239            0.000000             0.009063   \n",
       "..        ...            ...                 ...                  ...   \n",
       "978  0.149306       0.738776            0.008408             0.000000   \n",
       "979 -0.061111       0.999127            0.000000             0.000000   \n",
       "980  0.005144       0.721820            0.000000             0.600000   \n",
       "981 -0.002058       0.832649            0.000000             0.000000   \n",
       "982 -0.002058       0.888090            0.000000             0.000000   \n",
       "\n",
       "     raw_corr   dg_corr     slope  y_intercept  width_KT  width_KC  \\\n",
       "0    0.795897  0.897355  0.924574     0.585864  1.799410  1.667615   \n",
       "1    0.716247  0.869205  0.964459     0.385471  1.654039  1.476803   \n",
       "2    0.925822  0.939814  1.189631     0.137674  1.649916  1.791146   \n",
       "3    0.907062  0.885406  1.054723     0.720572  1.696218  1.700676   \n",
       "4    0.956524  0.960212  1.083691     0.050350  2.096557  2.274312   \n",
       "..        ...       ...       ...          ...       ...       ...   \n",
       "978  0.880768  0.893150  0.903905     0.788703  2.016923  1.999349   \n",
       "979  0.922895  0.941856  1.310385     0.632034  0.955763  1.419743   \n",
       "980  0.832259  0.839187  0.946620    -0.057472  1.755171  1.815391   \n",
       "981  0.799198  0.831423  0.875908    -0.057259  1.857731  1.800893   \n",
       "982  0.758360  0.803714  0.910320    -0.204939  1.773564  1.766265   \n",
       "\n",
       "     wt_dg_std_max     wt_kt     wt_kc     wt_dg  frac_stabilizing_mut  \\\n",
       "0         0.313232  1.247143  1.179462  3.314910              0.159645   \n",
       "1         0.032966  1.399448  1.541773  3.319744              0.144578   \n",
       "2         0.129925  1.453857  1.146686  3.973386              0.188488   \n",
       "3         0.103201  1.540460  1.345207  4.030383              0.205298   \n",
       "4         0.076288  1.767808  1.318278  4.190778              0.200665   \n",
       "..             ...       ...       ...       ...                   ...   \n",
       "978       0.342628  0.490999  0.052736  3.247773              0.242857   \n",
       "979       0.066868  0.144979 -1.052287  1.926132              0.511344   \n",
       "980       0.000000  1.676971  0.578866  3.192496              0.520165   \n",
       "981       0.000000  1.569547  1.185112  3.630498              0.039014   \n",
       "982       0.000000  1.448559  0.175867  2.957964              0.481520   \n",
       "\n",
       "     frac_stabilizing_hydrophobic_mut  \\\n",
       "0                            0.241270   \n",
       "1                            0.272446   \n",
       "2                            0.257962   \n",
       "3                            0.366242   \n",
       "4                            0.311111   \n",
       "..                                ...   \n",
       "978                          0.318681   \n",
       "979                          0.807595   \n",
       "980                          0.600000   \n",
       "981                          0.046832   \n",
       "982                          0.609890   \n",
       "\n",
       "     frac_pos_with_hydrophobic_stabilzing_muts  wt_d_from_line DMS_group  \\\n",
       "0                                     0.000000        0.076732        G0   \n",
       "1                                     0.000000        0.134545        G0   \n",
       "2                                     0.021277        0.068905        G0   \n",
       "3                                     0.000000        0.072771        G0   \n",
       "4                                     0.021277        0.110935        G0   \n",
       "..                                         ...             ...       ...   \n",
       "978                                   0.093750        0.410728        G8   \n",
       "979                                   0.433333        0.055859        G8   \n",
       "980                                   0.092593        0.028704        G8   \n",
       "981                                   0.000000        0.795342        G8   \n",
       "982                                   0.092593        0.009523        G8   \n",
       "\n",
       "    WT_cluster  \n",
       "0         EEHH  \n",
       "1         EEHH  \n",
       "2         EEHH  \n",
       "3         EEHH  \n",
       "4         EEHH  \n",
       "..         ...  \n",
       "978        164  \n",
       "979        117  \n",
       "980         71  \n",
       "981         71  \n",
       "982         71  \n",
       "\n",
       "[983 rows x 22 columns]"
      ]
     },
     "execution_count": 32,
     "metadata": {},
     "output_type": "execute_result"
    }
   ],
   "source": [
    "single"
   ]
  },
  {
   "cell_type": "markdown",
   "metadata": {},
   "source": [
    "- ESM2 (https://github.com/facebookresearch/esm)"
   ]
  },
  {
   "cell_type": "markdown",
   "metadata": {},
   "source": [
    "## Peek data - full dataset"
   ]
  },
  {
   "cell_type": "code",
   "execution_count": 71,
   "metadata": {},
   "outputs": [
    {
     "name": "stderr",
     "output_type": "stream",
     "text": [
      "/data/project/dohoon/miniconda3/envs/dohoon/lib/python3.9/site-packages/IPython/core/interactiveshell.py:3444: DtypeWarning: Columns (30,36) have mixed types.Specify dtype option on import or set low_memory=False.\n",
      "  exec(code_obj, self.user_global_ns, self.user_ns)\n"
     ]
    }
   ],
   "source": [
    "pd.set_option(\"display.max_columns\", None)\n",
    "data = pd.read_csv('../data/Processed_K50_dG_datasets/K50_dG_Dataset1_Dataset2.csv')"
   ]
  },
  {
   "cell_type": "markdown",
   "metadata": {},
   "source": [
    "851,552 aa substitutions were tested in total."
   ]
  },
  {
   "cell_type": "code",
   "execution_count": 72,
   "metadata": {},
   "outputs": [
    {
     "data": {
      "text/plain": [
       "(851552, 38)"
      ]
     },
     "execution_count": 72,
     "metadata": {},
     "output_type": "execute_result"
    }
   ],
   "source": [
    "data.shape"
   ]
  },
  {
   "cell_type": "markdown",
   "metadata": {},
   "source": [
    "There are 542 WT proteins in total."
   ]
  },
  {
   "cell_type": "code",
   "execution_count": 73,
   "metadata": {},
   "outputs": [
    {
     "data": {
      "text/plain": [
       "542"
      ]
     },
     "execution_count": 73,
     "metadata": {},
     "output_type": "execute_result"
    }
   ],
   "source": [
    "data.WT_name.nunique()"
   ]
  },
  {
   "attachments": {
    "06b3b2b3-36f7-4617-8d7a-0fda4cfd862d.png": {
     "image/png": "[encoded data removed]"
    }
   },
   "cell_type": "markdown",
   "metadata": {},
   "source": [
    "## Filtering\n",
    "\n",
    "Remove records\n",
    "\n",
    "1. having tag 'unreliable'\n",
    "\n",
    "![image.png](attachment:06b3b2b3-36f7-4617-8d7a-0fda4cfd862d.png)\n",
    "\n",
    "2. when no mutation was introduced\n",
    "3. associated with insertions and/or deletions\n",
    "4. associated with multiple mutations\n",
    "\n",
    "-> 376,918 single mutations from 396 proteins, we call this dataset 'Mega' dataset"
   ]
  },
  {
   "cell_type": "code",
   "execution_count": 74,
   "metadata": {},
   "outputs": [
    {
     "data": {
      "text/plain": [
       "376918"
      ]
     },
     "execution_count": 74,
     "metadata": {},
     "output_type": "execute_result"
    }
   ],
   "source": [
    "# 1. should not have tag 'unreliable'\n",
    "mask1 = data.ddG_ML != '-'\n",
    "\n",
    "# 2. mut_type != 'wt'\n",
    "mask2 = data.mut_type != 'wt'\n",
    "\n",
    "# 3. Should not be associated with insertions and/or deletions\n",
    "mask3 = ~data.mut_type.str.contains('ins') & ~data.mut_type.str.contains('del')\n",
    "\n",
    "# 4. Should have single mutations\n",
    "mask4 = ~data.mut_type.str.contains(':')\n",
    "\n",
    "(mask1 & mask2 & mask3 & mask4).sum()"
   ]
  },
  {
   "cell_type": "code",
   "execution_count": 88,
   "metadata": {},
   "outputs": [],
   "source": [
    "mega = data[mask1 & mask2 & mask3 & mask4].reset_index(drop=True).copy()\n",
    "\n",
    "# The effect of mutation from the column \"ddG_ML\" was multiplied by -1 to convert the values into folding free energy changes\n",
    "# (negative values denote stabilization)\n",
    "mega['ddG_ML'] = mega['ddG_ML'].astype(float) * (-1)\n",
    "\n",
    "# Positions\n",
    "mega['pos'] = mega['mut_type'].str[1:-1].astype(int)\n",
    "\n",
    "# aa_mut\n",
    "mega['aa_mut'] = mega['mut_type'].str[-1]"
   ]
  },
  {
   "cell_type": "markdown",
   "metadata": {},
   "source": [
    "Finally, we have 396 proteins in Mega dataset."
   ]
  },
  {
   "cell_type": "code",
   "execution_count": 89,
   "metadata": {},
   "outputs": [
    {
     "data": {
      "text/plain": [
       "396"
      ]
     },
     "execution_count": 89,
     "metadata": {},
     "output_type": "execute_result"
    }
   ],
   "source": [
    "mega.WT_name.nunique()"
   ]
  },
  {
   "cell_type": "markdown",
   "metadata": {},
   "source": [
    "## Train/val/test split\n",
    "\n",
    "First we have to reconstruct wt sequence of 396 proteins"
   ]
  },
  {
   "cell_type": "code",
   "execution_count": 90,
   "metadata": {},
   "outputs": [],
   "source": [
    "def reconstruct_wt_seq(aa_seq, mut_type):\n",
    "    ref, pos, alt = mut_type[0], int(mut_type[1:-1]), mut_type[-1]\n",
    "    assert aa_seq[pos-1] == alt\n",
    "    \n",
    "    tmp = list(aa_seq)\n",
    "    tmp[pos-1] = ref\n",
    "    return ''.join(tmp)"
   ]
  },
  {
   "cell_type": "code",
   "execution_count": 91,
   "metadata": {},
   "outputs": [
    {
     "data": {
      "text/plain": [
       "396"
      ]
     },
     "execution_count": 91,
     "metadata": {},
     "output_type": "execute_result"
    }
   ],
   "source": [
    "wt_seqs = []\n",
    "for r in mega.to_records():\n",
    "    s = reconstruct_wt_seq(r.aa_seq, r.mut_type)\n",
    "    wt_seqs.append(s)\n",
    "    \n",
    "len(set(wt_seqs))"
   ]
  },
  {
   "cell_type": "code",
   "execution_count": 92,
   "metadata": {},
   "outputs": [],
   "source": [
    "mega['wt_seq'] = wt_seqs"
   ]
  },
  {
   "cell_type": "code",
   "execution_count": 93,
   "metadata": {},
   "outputs": [],
   "source": [
    "mega.to_csv('../data/mega.full.csv', index=False)"
   ]
  },
  {
   "cell_type": "code",
   "execution_count": 94,
   "metadata": {},
   "outputs": [],
   "source": [
    "mega = pd.read_csv('../data/mega.full.csv')"
   ]
  },
  {
   "cell_type": "markdown",
   "metadata": {},
   "source": [
    "### Making fasta files for 396 aa sequences."
   ]
  },
  {
   "cell_type": "code",
   "execution_count": 9,
   "metadata": {},
   "outputs": [],
   "source": [
    "from Bio import SeqIO\n",
    "from Bio.Seq import Seq\n",
    "\n",
    "records = {}\n",
    "for r in mega.to_records():\n",
    "    name = r.WT_name\n",
    "    if name not in records:\n",
    "        records[name] = SeqIO.SeqRecord(Seq(r.wt_seq), id=name, name=name, description='')\n",
    "    \n",
    "with open('../data/wt_proteins.fasta', 'w') as outFile:\n",
    "    SeqIO.write(list(records.values()), outFile, 'fasta')"
   ]
  },
  {
   "cell_type": "code",
   "execution_count": 10,
   "metadata": {},
   "outputs": [
    {
     "name": "stdout",
     "output_type": "stream",
     "text": [
      ">1GYZ.pdb\n",
      "WIARINAAVRAYGLNYSTFINGLKKAGIELDRKILADMAVRDPQAFEQVVNKVKEALQV\n",
      ">1MHN.pdb\n"
     ]
    }
   ],
   "source": [
    "!head -n3 ../data/wt_proteins.fasta"
   ]
  },
  {
   "cell_type": "code",
   "execution_count": 11,
   "metadata": {},
   "outputs": [
    {
     "name": "stdout",
     "output_type": "stream",
     "text": [
      "396\n"
     ]
    }
   ],
   "source": [
    "!cat ../data/wt_proteins.fasta | grep '>' | wc -l"
   ]
  },
  {
   "cell_type": "markdown",
   "metadata": {},
   "source": [
    "### all-against-all protein BLAST\n",
    "\n",
    "You need BLAST to be installed in your machine."
   ]
  },
  {
   "cell_type": "code",
   "execution_count": null,
   "metadata": {},
   "outputs": [],
   "source": [
    "# !makeblastdb -in ../data/wt_proteins.fasta -dbtype prot -out ../data/wt_proteins\n",
    "# !blastp -db ../data/wt_proteins -query ../data/wt_proteins.fasta -outfmt 6 -out ../data/wt_proteins.all_against_all_blastp.tsv -num_threads 4"
   ]
  },
  {
   "cell_type": "markdown",
   "metadata": {},
   "source": [
    "BLAST result"
   ]
  },
  {
   "cell_type": "code",
   "execution_count": 12,
   "metadata": {},
   "outputs": [
    {
     "name": "stdout",
     "output_type": "stream",
     "text": [
      "11621 hits in total.\n",
      "3400 hits with e < 1e-5.\n"
     ]
    }
   ],
   "source": [
    "blast_outfmt6_cols = ['qseqid', 'sseqid', 'pident', 'length', 'mismatch', 'gapopen', 'qstart', 'qend', 'sstart', 'send', 'evalue', 'bitscore']\n",
    "\n",
    "blast = pd.read_csv('../data/wt_proteins.all_against_all_blastp.tsv', sep='\\t', names=blast_outfmt6_cols)\n",
    "blast = blast[blast.qseqid != blast.sseqid]\n",
    "print(len(blast), 'hits in total.')\n",
    "\n",
    "blast = blast[blast.evalue < 1e-5]\n",
    "print(len(blast), 'hits with e < 1e-5.')"
   ]
  },
  {
   "cell_type": "markdown",
   "metadata": {},
   "source": [
    "### Split MegaTrain and MegaValidation with sequence identity cutoff 35\n",
    "\n",
    "- MegaTrain and MegaValidation should have 388 and 8 proteins, respectively."
   ]
  },
  {
   "cell_type": "code",
   "execution_count": 5,
   "metadata": {},
   "outputs": [
    {
     "data": {
      "text/plain": [
       "(2665, 12)"
      ]
     },
     "execution_count": 5,
     "metadata": {},
     "output_type": "execute_result"
    }
   ],
   "source": [
    "blast_identity35 = blast[blast.pident > 35.0]\n",
    "blast_identity35.shape"
   ]
  },
  {
   "cell_type": "markdown",
   "metadata": {},
   "source": [
    "There are only 293 proteins in BLAST result (e < 1e-5, identity > 35%).\n",
    "\n",
    "How about the rest of 103 proteins?"
   ]
  },
  {
   "cell_type": "code",
   "execution_count": 23,
   "metadata": {},
   "outputs": [],
   "source": [
    "import networkx as nx"
   ]
  },
  {
   "cell_type": "code",
   "execution_count": 34,
   "metadata": {},
   "outputs": [],
   "source": [
    "names = list(records.keys())\n",
    "name2i = {n:i for i, n in enumerate(names)}\n",
    "i2name = {i:n for i, n in enumerate(names)}\n",
    "\n",
    "edgelist = [(name2i[r.qseqid], name2i[r.sseqid]) for r in blast_identity35.to_records()]\n",
    "G = nx.from_edgelist(edgelist)"
   ]
  },
  {
   "cell_type": "code",
   "execution_count": 27,
   "metadata": {},
   "outputs": [
    {
     "data": {
      "text/plain": [
       "37"
      ]
     },
     "execution_count": 27,
     "metadata": {},
     "output_type": "execute_result"
    }
   ],
   "source": [
    "nx.number_connected_components(G)"
   ]
  },
  {
   "cell_type": "code",
   "execution_count": 32,
   "metadata": {},
   "outputs": [
    {
     "data": {
      "text/plain": [
       "(376918, 39)"
      ]
     },
     "execution_count": 32,
     "metadata": {},
     "output_type": "execute_result"
    }
   ],
   "source": [
    "mega.shape"
   ]
  },
  {
   "cell_type": "markdown",
   "metadata": {},
   "source": [
    "No 8-member cluster has 9060 mutations tested in total :("
   ]
  },
  {
   "cell_type": "code",
   "execution_count": 35,
   "metadata": {},
   "outputs": [
    {
     "name": "stdout",
     "output_type": "stream",
     "text": [
      "['1CSQ.pdb_F49A', '2LSS.pdb_G6S', '2LSS.pdb_F17A', '1MJC.pdb_L43S', '1MJC.pdb_G17A', '1CSQ.pdb_F9S', '2LXK.pdb_G4A', '2LXK.pdb_F15S']\n",
      "10029\n",
      "['2L9R.pdb', '2L7M.pdb', '2L7F.pdb', '5Z2S.pdb', '1ENH.pdb', '2JWT.pdb', '2M0C.pdb', '6FVC.pdb']\n",
      "7081\n"
     ]
    }
   ],
   "source": [
    "for g in nx.connected_components(G):\n",
    "    if len(g) == 8:\n",
    "        members = [i2name[i] for i in g]\n",
    "        print(members)\n",
    "        print(len(mega[mega.WT_name.isin(members)]))"
   ]
  },
  {
   "cell_type": "markdown",
   "metadata": {},
   "source": [
    "### We have no sufficient information to reproduce MegaTrain and MegaValidation\n",
    "\n",
    "But I'll anyway try to reproduce 367858 / 9060 split based on `blast_identity35` data table I've made."
   ]
  },
  {
   "cell_type": "code",
   "execution_count": 57,
   "metadata": {},
   "outputs": [],
   "source": [
    "pairs = []\n",
    "\n",
    "for g in nx.connected_components(G):\n",
    "    if len(g) < 8:\n",
    "        members = [i2name[i] for i in g]\n",
    "        pairs.append((len(members), len(mega[mega.WT_name.isin(members)]), members))\n",
    "        \n",
    "for singleton in names:\n",
    "    if name2i[singleton] in set(G.nodes):\n",
    "        continue\n",
    "    \n",
    "    pairs.append((1, len(mega[mega.WT_name == singleton]), [singleton]))"
   ]
  },
  {
   "cell_type": "markdown",
   "metadata": {},
   "source": [
    "No two clusters have 8 proteins and 9060 corresponding mutations!"
   ]
  },
  {
   "cell_type": "code",
   "execution_count": 58,
   "metadata": {},
   "outputs": [],
   "source": [
    "import itertools\n",
    "\n",
    "for p1, p2 in itertools.combinations(pairs, 2):\n",
    "    if p1[0] + p2[0] == 8 and p1[1] + p2[1] == 9060:\n",
    "        print(p1, p2)"
   ]
  },
  {
   "cell_type": "markdown",
   "metadata": {},
   "source": [
    "How about 3?"
   ]
  },
  {
   "cell_type": "code",
   "execution_count": 59,
   "metadata": {},
   "outputs": [
    {
     "name": "stdout",
     "output_type": "stream",
     "text": [
      "((6, 6573, ['1YU5.pdb', 'v2R14S|R16S_2L3X.pdb', '1VII.pdb', '5VNT.pdb', '3MYC.pdb', '2RJV.pdb']), (1, 1121, ['1GYZ.pdb']), (1, 1366, ['1UFM.pdb']))\n",
      "((6, 6573, ['1YU5.pdb', 'v2R14S|R16S_2L3X.pdb', '1VII.pdb', '5VNT.pdb', '3MYC.pdb', '2RJV.pdb']), (1, 1364, ['2LT1.pdb']), (1, 1123, ['2RU9.pdb']))\n",
      "((6, 6573, ['1YU5.pdb', 'v2R14S|R16S_2L3X.pdb', '1VII.pdb', '5VNT.pdb', '3MYC.pdb', '2RJV.pdb']), (1, 1232, ['2KFV.pdb']), (1, 1255, ['2JT1.pdb']))\n",
      "((4, 5029, ['2AMI.pdb', '2RRT.pdb', '2K2A.pdb', '2M8U.pdb']), (3, 3074, ['6EWU.pdb', '6EWT.pdb', '6EWS.pdb']), (1, 957, ['2MYX.pdb']))\n",
      "((4, 4769, ['2LYR.pdb', '2LYP.pdb_V26S', '2LYP.pdb_P41A', '2LYQ.pdb']), (3, 3488, ['2LO1.pdb', '2LGW.pdb', '2OCH.pdb']), (1, 803, ['HEEH_KT_rd6_0007.pdb']))\n",
      "((6, 7046, ['2KRS.pdb_W42A', '2KRS.pdb_Y53S', '2KT8.pdb_G54S', '2KT8.pdb_V15A', '2KYB.pdb_K55A', '2KYB.pdb_G2S']), (1, 1017, ['7JJK.pdb']), (1, 997, ['v2_2LXE.pdb']))\n",
      "((6, 7046, ['2KRS.pdb_W42A', '2KRS.pdb_Y53S', '2KT8.pdb_G54S', '2KT8.pdb_V15A', '2KYB.pdb_K55A', '2KYB.pdb_G2S']), (1, 997, ['v2_2LXE.pdb']), (1, 1017, ['v2K43S_2KVV.pdb']))\n",
      "((6, 7046, ['2KRS.pdb_W42A', '2KRS.pdb_Y53S', '2KT8.pdb_G54S', '2KT8.pdb_V15A', '2KYB.pdb_K55A', '2KYB.pdb_G2S']), (1, 1209, ['1V1C.pdb']), (1, 805, ['HHH_rd4_0870.pdb']))\n",
      "((6, 7046, ['2KRS.pdb_W42A', '2KRS.pdb_Y53S', '2KT8.pdb_G54S', '2KT8.pdb_V15A', '2KYB.pdb_K55A', '2KYB.pdb_G2S']), (1, 1255, ['2JT1.pdb']), (1, 759, ['1K1V.pdb']))\n",
      "((6, 7046, ['2KRS.pdb_W42A', '2KRS.pdb_Y53S', '2KT8.pdb_G54S', '2KT8.pdb_V15A', '2KYB.pdb_K55A', '2KYB.pdb_G2S']), (1, 1209, ['2O2W.pdb']), (1, 805, ['HHH_rd4_0870.pdb']))\n",
      "((6, 7046, ['2KRS.pdb_W42A', '2KRS.pdb_Y53S', '2KT8.pdb_G54S', '2KT8.pdb_V15A', '2KYB.pdb_K55A', '2KYB.pdb_G2S']), (1, 1211, ['2K5P.pdb']), (1, 803, ['HEEH_KT_rd6_0007.pdb']))\n",
      "((6, 7046, ['2KRS.pdb_W42A', '2KRS.pdb_Y53S', '2KT8.pdb_G54S', '2KT8.pdb_V15A', '2KYB.pdb_K55A', '2KYB.pdb_G2S']), (1, 1123, ['2RU9.pdb']), (1, 891, ['r10_1151_TrROS_Hall.pdb']))\n",
      "((6, 7046, ['2KRS.pdb_W42A', '2KRS.pdb_Y53S', '2KT8.pdb_G54S', '2KT8.pdb_V15A', '2KYB.pdb_K55A', '2KYB.pdb_G2S']), (1, 1215, ['6M3N.pdb']), (1, 799, ['HEEH_KT_rd6_0280.pdb']))\n"
     ]
    }
   ],
   "source": [
    "for p in itertools.combinations(pairs, 3):\n",
    "    if sum(t[0] for t in p) == 8 and sum(t[1] for t in p) == 9060:\n",
    "        print(p)"
   ]
  },
  {
   "cell_type": "markdown",
   "metadata": {},
   "source": [
    "I'll use the first one for MegaValidation / MegaTest PDB names. Let's finalize our dataset."
   ]
  },
  {
   "cell_type": "code",
   "execution_count": 95,
   "metadata": {},
   "outputs": [
    {
     "data": {
      "text/plain": [
       "((9060, 41), (367858, 41), (3017, 41), (6043, 41))"
      ]
     },
     "execution_count": 95,
     "metadata": {},
     "output_type": "execute_result"
    }
   ],
   "source": [
    "val_test_names = ['1YU5.pdb', 'v2R14S|R16S_2L3X.pdb', '1VII.pdb', '5VNT.pdb', '3MYC.pdb', '2RJV.pdb'] + ['1GYZ.pdb'] + ['1UFM.pdb']\n",
    "train_names = [n for n in names if n not in val_test_names]\n",
    "\n",
    "mega_val_test = mega[mega.WT_name.isin(val_test_names)]\n",
    "mega_train = mega[mega.WT_name.isin(train_names)]\n",
    "\n",
    "mega_val = mega_val_test.sample(frac=1.0, random_state=42).iloc[:3017]\n",
    "mega_test = mega_val_test.sample(frac=1.0, random_state=42).iloc[3017:]\n",
    "\n",
    "mega_val_test.shape, mega_train.shape, mega_val.shape, mega_test.shape"
   ]
  },
  {
   "cell_type": "markdown",
   "metadata": {},
   "source": [
    "367,858 for MegaTrain, 3017 for MegaValidation, 6043 for MegaTest. OK!"
   ]
  },
  {
   "cell_type": "code",
   "execution_count": 96,
   "metadata": {},
   "outputs": [],
   "source": [
    "mega_train.to_csv('../data/mega.train.csv', index=False)\n",
    "mega_val.to_csv('../data/mega.val.csv', index=False)\n",
    "mega_test.to_csv('../data/mega.test.csv', index=False)"
   ]
  }
 ],
 "metadata": {
  "kernelspec": {
   "display_name": "dohoon",
   "language": "python",
   "name": "dohoon"
  },
  "language_info": {
   "codemirror_mode": {
    "name": "ipython",
    "version": 3
   },
   "file_extension": ".py",
   "mimetype": "text/x-python",
   "name": "python",
   "nbconvert_exporter": "python",
   "pygments_lexer": "ipython3",
   "version": "3.9.7"
  }
 },
 "nbformat": 4,
 "nbformat_minor": 4
}
